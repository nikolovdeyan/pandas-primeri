{
 "cells": [
  {
   "cell_type": "markdown",
   "id": "exotic-trade",
   "metadata": {},
   "source": [
    "## Дедупликиране на данни с Pandas\n"
   ]
  },
  {
   "cell_type": "code",
   "execution_count": 1,
   "id": "passing-challenge",
   "metadata": {},
   "outputs": [],
   "source": [
    "import pandas as pd\n",
    "import numpy as np"
   ]
  },
  {
   "cell_type": "markdown",
   "id": "unlike-penalty",
   "metadata": {},
   "source": [
    "За да внесем текстови файлове с данни в pandas, използваме метода `pandas.read_csv()`. [Документация](https://pandas.pydata.org/pandas-docs/stable/reference/api/pandas.read_csv.html)"
   ]
  },
  {
   "cell_type": "code",
   "execution_count": 2,
   "id": "immediate-excitement",
   "metadata": {},
   "outputs": [
    {
     "data": {
      "text/plain": [
       "(100000, 7)"
      ]
     },
     "execution_count": 2,
     "metadata": {},
     "output_type": "execute_result"
    }
   ],
   "source": [
    "df = pd.read_csv(\"over_a_hundred_thousand.csv\", delimiter=\"|\")\n",
    "df.shape"
   ]
  },
  {
   "cell_type": "markdown",
   "id": "adjusted-muslim",
   "metadata": {},
   "source": []
  },
  {
   "cell_type": "code",
   "execution_count": 13,
   "id": "hydraulic-visibility",
   "metadata": {},
   "outputs": [
    {
     "data": {
      "text/html": [
       "<div>\n",
       "<style scoped>\n",
       "    .dataframe tbody tr th:only-of-type {\n",
       "        vertical-align: middle;\n",
       "    }\n",
       "\n",
       "    .dataframe tbody tr th {\n",
       "        vertical-align: top;\n",
       "    }\n",
       "\n",
       "    .dataframe thead th {\n",
       "        text-align: right;\n",
       "    }\n",
       "</style>\n",
       "<table border=\"1\" class=\"dataframe\">\n",
       "  <thead>\n",
       "    <tr style=\"text-align: right;\">\n",
       "      <th></th>\n",
       "      <th>name</th>\n",
       "      <th>sex</th>\n",
       "      <th>birthdate</th>\n",
       "      <th>username</th>\n",
       "      <th>address</th>\n",
       "      <th>SSN</th>\n",
       "      <th>mail</th>\n",
       "    </tr>\n",
       "  </thead>\n",
       "  <tbody>\n",
       "    <tr>\n",
       "      <th>0</th>\n",
       "      <td>Omar Caldwell</td>\n",
       "      <td>M</td>\n",
       "      <td>16-04-2001</td>\n",
       "      <td>cowanpatrick</td>\n",
       "      <td>Unit 8870 Box 8137 DPO AE 69568</td>\n",
       "      <td>803-02-2702</td>\n",
       "      <td>wjohnson@hotmail.com</td>\n",
       "    </tr>\n",
       "  </tbody>\n",
       "</table>\n",
       "</div>"
      ],
      "text/plain": [
       "            name sex   birthdate      username  \\\n",
       "0  Omar Caldwell   M  16-04-2001  cowanpatrick   \n",
       "\n",
       "                           address          SSN                  mail  \n",
       "0  Unit 8870 Box 8137 DPO AE 69568  803-02-2702  wjohnson@hotmail.com  "
      ]
     },
     "execution_count": 13,
     "metadata": {},
     "output_type": "execute_result"
    }
   ],
   "source": [
    "df.head(1)"
   ]
  },
  {
   "cell_type": "markdown",
   "id": "willing-electric",
   "metadata": {},
   "source": [
    "Ще подберем на случаен принцип 5% от записите, като ги копираме в отделен dataframe. "
   ]
  },
  {
   "cell_type": "code",
   "execution_count": 4,
   "id": "finished-roommate",
   "metadata": {},
   "outputs": [
    {
     "data": {
      "text/plain": [
       "5000"
      ]
     },
     "execution_count": 4,
     "metadata": {},
     "output_type": "execute_result"
    }
   ],
   "source": [
    "random_sample = df.sample(int(len(df)*0.05))  # 5 percent of the original dataset\n",
    "len(random_sample)"
   ]
  },
  {
   "cell_type": "markdown",
   "id": "phantom-lingerie",
   "metadata": {},
   "source": [
    "В следващата стъпка ще конкатенираме създадената току що извадка заедно с основния масив данни. "
   ]
  },
  {
   "cell_type": "code",
   "execution_count": 5,
   "id": "hollywood-double",
   "metadata": {},
   "outputs": [
    {
     "data": {
      "text/html": [
       "<div>\n",
       "<style scoped>\n",
       "    .dataframe tbody tr th:only-of-type {\n",
       "        vertical-align: middle;\n",
       "    }\n",
       "\n",
       "    .dataframe tbody tr th {\n",
       "        vertical-align: top;\n",
       "    }\n",
       "\n",
       "    .dataframe thead th {\n",
       "        text-align: right;\n",
       "    }\n",
       "</style>\n",
       "<table border=\"1\" class=\"dataframe\">\n",
       "  <thead>\n",
       "    <tr style=\"text-align: right;\">\n",
       "      <th></th>\n",
       "      <th>name</th>\n",
       "      <th>sex</th>\n",
       "      <th>birthdate</th>\n",
       "      <th>username</th>\n",
       "      <th>address</th>\n",
       "      <th>SSN</th>\n",
       "      <th>mail</th>\n",
       "    </tr>\n",
       "  </thead>\n",
       "  <tbody>\n",
       "    <tr>\n",
       "      <th>0</th>\n",
       "      <td>Omar Caldwell</td>\n",
       "      <td>M</td>\n",
       "      <td>16-04-2001</td>\n",
       "      <td>cowanpatrick</td>\n",
       "      <td>Unit 8870 Box 8137 DPO AE 69568</td>\n",
       "      <td>803-02-2702</td>\n",
       "      <td>wjohnson@hotmail.com</td>\n",
       "    </tr>\n",
       "    <tr>\n",
       "      <th>1</th>\n",
       "      <td>Taylor Green</td>\n",
       "      <td>F</td>\n",
       "      <td>29-05-1994</td>\n",
       "      <td>dhoward</td>\n",
       "      <td>2141 Christensen Turnpike Gabrielaport, MI 45332</td>\n",
       "      <td>274-99-3139</td>\n",
       "      <td>kim81@wallace-thomas.com</td>\n",
       "    </tr>\n",
       "    <tr>\n",
       "      <th>2</th>\n",
       "      <td>Nicholas Smith</td>\n",
       "      <td>F</td>\n",
       "      <td>18-07-1982</td>\n",
       "      <td>bonnie86</td>\n",
       "      <td>37930 Sanchez Fort Apt. 872 West Nancy, MI 32549</td>\n",
       "      <td>429-31-5875</td>\n",
       "      <td>erin80@hotmail.com</td>\n",
       "    </tr>\n",
       "    <tr>\n",
       "      <th>3</th>\n",
       "      <td>Sherry Wood</td>\n",
       "      <td>M</td>\n",
       "      <td>06-09-1980</td>\n",
       "      <td>david66</td>\n",
       "      <td>362 Walters Brooks South Jenna, IL 53923</td>\n",
       "      <td>165-49-9744</td>\n",
       "      <td>jasonrivera@yahoo.com</td>\n",
       "    </tr>\n",
       "    <tr>\n",
       "      <th>4</th>\n",
       "      <td>Ashley Mckenzie</td>\n",
       "      <td>M</td>\n",
       "      <td>10-05-1994</td>\n",
       "      <td>ucastro</td>\n",
       "      <td>43489 White Bridge South Alyssaport, NY 49020</td>\n",
       "      <td>878-34-1547</td>\n",
       "      <td>stonegabrielle@yahoo.com</td>\n",
       "    </tr>\n",
       "  </tbody>\n",
       "</table>\n",
       "</div>"
      ],
      "text/plain": [
       "              name sex   birthdate      username  \\\n",
       "0    Omar Caldwell   M  16-04-2001  cowanpatrick   \n",
       "1     Taylor Green   F  29-05-1994       dhoward   \n",
       "2   Nicholas Smith   F  18-07-1982      bonnie86   \n",
       "3      Sherry Wood   M  06-09-1980       david66   \n",
       "4  Ashley Mckenzie   M  10-05-1994       ucastro   \n",
       "\n",
       "                                            address          SSN  \\\n",
       "0                   Unit 8870 Box 8137 DPO AE 69568  803-02-2702   \n",
       "1  2141 Christensen Turnpike Gabrielaport, MI 45332  274-99-3139   \n",
       "2  37930 Sanchez Fort Apt. 872 West Nancy, MI 32549  429-31-5875   \n",
       "3          362 Walters Brooks South Jenna, IL 53923  165-49-9744   \n",
       "4     43489 White Bridge South Alyssaport, NY 49020  878-34-1547   \n",
       "\n",
       "                       mail  \n",
       "0      wjohnson@hotmail.com  \n",
       "1  kim81@wallace-thomas.com  \n",
       "2        erin80@hotmail.com  \n",
       "3     jasonrivera@yahoo.com  \n",
       "4  stonegabrielle@yahoo.com  "
      ]
     },
     "execution_count": 5,
     "metadata": {},
     "output_type": "execute_result"
    }
   ],
   "source": [
    "df_with_duplicates = pd.concat([df, random_sample], ignore_index=True)\n",
    "len(df_with_duplicates)\n",
    "df_with_duplicates.head(5)"
   ]
  },
  {
   "cell_type": "markdown",
   "id": "remarkable-things",
   "metadata": {},
   "source": [
    "Методът `DataFrame.sample()`, който използвахме, за да направим случайна извадка може да се използва и за произволно разбъркване на данните в даден фрейм. За целта използваме параметър `frac`:"
   ]
  },
  {
   "cell_type": "code",
   "execution_count": 6,
   "id": "opposite-webmaster",
   "metadata": {},
   "outputs": [],
   "source": [
    "df_with_duplicates = df_with_duplicates.sample(frac=1)"
   ]
  },
  {
   "cell_type": "code",
   "execution_count": 7,
   "id": "reverse-scanning",
   "metadata": {},
   "outputs": [
    {
     "data": {
      "text/html": [
       "<div>\n",
       "<style scoped>\n",
       "    .dataframe tbody tr th:only-of-type {\n",
       "        vertical-align: middle;\n",
       "    }\n",
       "\n",
       "    .dataframe tbody tr th {\n",
       "        vertical-align: top;\n",
       "    }\n",
       "\n",
       "    .dataframe thead th {\n",
       "        text-align: right;\n",
       "    }\n",
       "</style>\n",
       "<table border=\"1\" class=\"dataframe\">\n",
       "  <thead>\n",
       "    <tr style=\"text-align: right;\">\n",
       "      <th></th>\n",
       "      <th>name</th>\n",
       "      <th>sex</th>\n",
       "      <th>birthdate</th>\n",
       "      <th>username</th>\n",
       "      <th>address</th>\n",
       "      <th>SSN</th>\n",
       "      <th>mail</th>\n",
       "    </tr>\n",
       "  </thead>\n",
       "  <tbody>\n",
       "    <tr>\n",
       "      <th>93224</th>\n",
       "      <td>Tristan Wells</td>\n",
       "      <td>M</td>\n",
       "      <td>04-08-1985</td>\n",
       "      <td>gcarr</td>\n",
       "      <td>2433 Laura Ford Suite 833 Evanton, OK 30407</td>\n",
       "      <td>822-92-3179</td>\n",
       "      <td>vwalker@gmail.com</td>\n",
       "    </tr>\n",
       "    <tr>\n",
       "      <th>61548</th>\n",
       "      <td>Eric Berger</td>\n",
       "      <td>M</td>\n",
       "      <td>23-05-1991</td>\n",
       "      <td>sfields</td>\n",
       "      <td>PSC 0526, Box 8570 APO AP 69375</td>\n",
       "      <td>179-13-6873</td>\n",
       "      <td>mfrench@gmail.com</td>\n",
       "    </tr>\n",
       "    <tr>\n",
       "      <th>50462</th>\n",
       "      <td>William Ballard</td>\n",
       "      <td>M</td>\n",
       "      <td>06-05-1973</td>\n",
       "      <td>cole15</td>\n",
       "      <td>41617 Cooper Flats Jacksonville, WY 21859</td>\n",
       "      <td>694-56-7550</td>\n",
       "      <td>bryan55@morales.com</td>\n",
       "    </tr>\n",
       "    <tr>\n",
       "      <th>9514</th>\n",
       "      <td>Lauren Chang</td>\n",
       "      <td>M</td>\n",
       "      <td>28-11-1994</td>\n",
       "      <td>jonathan87</td>\n",
       "      <td>88552 Lewis Summit Brownland, ME 71574</td>\n",
       "      <td>077-57-0085</td>\n",
       "      <td>sdickerson@haas.org</td>\n",
       "    </tr>\n",
       "    <tr>\n",
       "      <th>59999</th>\n",
       "      <td>Hayden Bowen</td>\n",
       "      <td>M</td>\n",
       "      <td>26-09-1981</td>\n",
       "      <td>harrisontoni</td>\n",
       "      <td>145 Griffith Keys Port Javierbury, DC 12777</td>\n",
       "      <td>029-28-5149</td>\n",
       "      <td>jonathanrobinson@yahoo.com</td>\n",
       "    </tr>\n",
       "  </tbody>\n",
       "</table>\n",
       "</div>"
      ],
      "text/plain": [
       "                  name sex   birthdate      username  \\\n",
       "93224    Tristan Wells   M  04-08-1985         gcarr   \n",
       "61548      Eric Berger   M  23-05-1991       sfields   \n",
       "50462  William Ballard   M  06-05-1973        cole15   \n",
       "9514      Lauren Chang   M  28-11-1994    jonathan87   \n",
       "59999     Hayden Bowen   M  26-09-1981  harrisontoni   \n",
       "\n",
       "                                           address          SSN  \\\n",
       "93224  2433 Laura Ford Suite 833 Evanton, OK 30407  822-92-3179   \n",
       "61548              PSC 0526, Box 8570 APO AP 69375  179-13-6873   \n",
       "50462    41617 Cooper Flats Jacksonville, WY 21859  694-56-7550   \n",
       "9514        88552 Lewis Summit Brownland, ME 71574  077-57-0085   \n",
       "59999  145 Griffith Keys Port Javierbury, DC 12777  029-28-5149   \n",
       "\n",
       "                             mail  \n",
       "93224           vwalker@gmail.com  \n",
       "61548           mfrench@gmail.com  \n",
       "50462         bryan55@morales.com  \n",
       "9514          sdickerson@haas.org  \n",
       "59999  jonathanrobinson@yahoo.com  "
      ]
     },
     "execution_count": 7,
     "metadata": {},
     "output_type": "execute_result"
    }
   ],
   "source": [
    "df_with_duplicates.head(5)"
   ]
  },
  {
   "cell_type": "code",
   "execution_count": 8,
   "id": "varied-smile",
   "metadata": {},
   "outputs": [
    {
     "name": "stdout",
     "output_type": "stream",
     "text": [
      "<class 'pandas.core.frame.DataFrame'>\n",
      "Int64Index: 105000 entries, 93224 to 52087\n",
      "Data columns (total 7 columns):\n",
      " #   Column     Non-Null Count   Dtype \n",
      "---  ------     --------------   ----- \n",
      " 0   name       105000 non-null  object\n",
      " 1   sex        105000 non-null  object\n",
      " 2   birthdate  105000 non-null  object\n",
      " 3   username   105000 non-null  object\n",
      " 4   address    105000 non-null  object\n",
      " 5   SSN        105000 non-null  object\n",
      " 6   mail       105000 non-null  object\n",
      "dtypes: object(7)\n",
      "memory usage: 51.8 MB\n"
     ]
    }
   ],
   "source": [
    "df_with_duplicates.info(memory_usage=\"deep\")"
   ]
  },
  {
   "cell_type": "code",
   "execution_count": 9,
   "id": "invalid-repository",
   "metadata": {},
   "outputs": [
    {
     "data": {
      "text/plain": [
       "True"
      ]
     },
     "execution_count": 9,
     "metadata": {},
     "output_type": "execute_result"
    }
   ],
   "source": [
    "df_with_duplicates.duplicated().any()"
   ]
  },
  {
   "cell_type": "code",
   "execution_count": 10,
   "id": "frequent-third",
   "metadata": {},
   "outputs": [
    {
     "data": {
      "text/plain": [
       "True"
      ]
     },
     "execution_count": 10,
     "metadata": {},
     "output_type": "execute_result"
    }
   ],
   "source": [
    "df_with_duplicates.duplicated(subset=[\"name\", \"birthdate\"]).any()"
   ]
  },
  {
   "cell_type": "code",
   "execution_count": 11,
   "id": "injured-classic",
   "metadata": {},
   "outputs": [
    {
     "data": {
      "text/plain": [
       "10000"
      ]
     },
     "execution_count": 11,
     "metadata": {},
     "output_type": "execute_result"
    }
   ],
   "source": [
    "duplicate_records = df_with_duplicates[df_with_duplicates.duplicated(keep=False)]  # can keep 'first', 'last', or all.\n",
    "len(duplicate_records)"
   ]
  },
  {
   "cell_type": "code",
   "execution_count": 12,
   "id": "republican-macintosh",
   "metadata": {},
   "outputs": [
    {
     "data": {
      "text/html": [
       "<div>\n",
       "<style scoped>\n",
       "    .dataframe tbody tr th:only-of-type {\n",
       "        vertical-align: middle;\n",
       "    }\n",
       "\n",
       "    .dataframe tbody tr th {\n",
       "        vertical-align: top;\n",
       "    }\n",
       "\n",
       "    .dataframe thead th {\n",
       "        text-align: right;\n",
       "    }\n",
       "</style>\n",
       "<table border=\"1\" class=\"dataframe\">\n",
       "  <thead>\n",
       "    <tr style=\"text-align: right;\">\n",
       "      <th></th>\n",
       "      <th>name</th>\n",
       "      <th>sex</th>\n",
       "      <th>birthdate</th>\n",
       "      <th>username</th>\n",
       "      <th>address</th>\n",
       "      <th>SSN</th>\n",
       "      <th>mail</th>\n",
       "    </tr>\n",
       "  </thead>\n",
       "  <tbody>\n",
       "    <tr>\n",
       "      <th>11533</th>\n",
       "      <td>Aaron Coleman</td>\n",
       "      <td>F</td>\n",
       "      <td>12-02-1993</td>\n",
       "      <td>cday</td>\n",
       "      <td>3852 Brooks Shoal Tanyamouth, TX 04442</td>\n",
       "      <td>691-35-1258</td>\n",
       "      <td>rodriguezkatherine@peters.com</td>\n",
       "    </tr>\n",
       "    <tr>\n",
       "      <th>102223</th>\n",
       "      <td>Aaron Coleman</td>\n",
       "      <td>F</td>\n",
       "      <td>12-02-1993</td>\n",
       "      <td>cday</td>\n",
       "      <td>3852 Brooks Shoal Tanyamouth, TX 04442</td>\n",
       "      <td>691-35-1258</td>\n",
       "      <td>rodriguezkatherine@peters.com</td>\n",
       "    </tr>\n",
       "    <tr>\n",
       "      <th>102711</th>\n",
       "      <td>Aaron Diaz</td>\n",
       "      <td>M</td>\n",
       "      <td>21-01-1983</td>\n",
       "      <td>victoriastewart</td>\n",
       "      <td>39777 Fry Mountain Lake Sarahland, MO 12901</td>\n",
       "      <td>233-13-1425</td>\n",
       "      <td>xpayne@gmail.com</td>\n",
       "    </tr>\n",
       "    <tr>\n",
       "      <th>43446</th>\n",
       "      <td>Aaron Diaz</td>\n",
       "      <td>M</td>\n",
       "      <td>21-01-1983</td>\n",
       "      <td>victoriastewart</td>\n",
       "      <td>39777 Fry Mountain Lake Sarahland, MO 12901</td>\n",
       "      <td>233-13-1425</td>\n",
       "      <td>xpayne@gmail.com</td>\n",
       "    </tr>\n",
       "    <tr>\n",
       "      <th>26230</th>\n",
       "      <td>Aaron Edwards</td>\n",
       "      <td>M</td>\n",
       "      <td>02-07-1994</td>\n",
       "      <td>jacqueline11</td>\n",
       "      <td>228 Hobbs Via Michaelshire, MS 34304</td>\n",
       "      <td>387-99-1485</td>\n",
       "      <td>evansdaniel@simmons.com</td>\n",
       "    </tr>\n",
       "    <tr>\n",
       "      <th>103589</th>\n",
       "      <td>Aaron Edwards</td>\n",
       "      <td>M</td>\n",
       "      <td>02-07-1994</td>\n",
       "      <td>jacqueline11</td>\n",
       "      <td>228 Hobbs Via Michaelshire, MS 34304</td>\n",
       "      <td>387-99-1485</td>\n",
       "      <td>evansdaniel@simmons.com</td>\n",
       "    </tr>\n",
       "  </tbody>\n",
       "</table>\n",
       "</div>"
      ],
      "text/plain": [
       "                 name sex   birthdate         username  \\\n",
       "11533   Aaron Coleman   F  12-02-1993             cday   \n",
       "102223  Aaron Coleman   F  12-02-1993             cday   \n",
       "102711     Aaron Diaz   M  21-01-1983  victoriastewart   \n",
       "43446      Aaron Diaz   M  21-01-1983  victoriastewart   \n",
       "26230   Aaron Edwards   M  02-07-1994     jacqueline11   \n",
       "103589  Aaron Edwards   M  02-07-1994     jacqueline11   \n",
       "\n",
       "                                            address          SSN  \\\n",
       "11533        3852 Brooks Shoal Tanyamouth, TX 04442  691-35-1258   \n",
       "102223       3852 Brooks Shoal Tanyamouth, TX 04442  691-35-1258   \n",
       "102711  39777 Fry Mountain Lake Sarahland, MO 12901  233-13-1425   \n",
       "43446   39777 Fry Mountain Lake Sarahland, MO 12901  233-13-1425   \n",
       "26230          228 Hobbs Via Michaelshire, MS 34304  387-99-1485   \n",
       "103589         228 Hobbs Via Michaelshire, MS 34304  387-99-1485   \n",
       "\n",
       "                                 mail  \n",
       "11533   rodriguezkatherine@peters.com  \n",
       "102223  rodriguezkatherine@peters.com  \n",
       "102711               xpayne@gmail.com  \n",
       "43446                xpayne@gmail.com  \n",
       "26230         evansdaniel@simmons.com  \n",
       "103589        evansdaniel@simmons.com  "
      ]
     },
     "execution_count": 12,
     "metadata": {},
     "output_type": "execute_result"
    }
   ],
   "source": [
    "duplicate_records.sort_values(by=[\"name\", \"birthdate\"]).head(6)"
   ]
  },
  {
   "cell_type": "code",
   "execution_count": null,
   "id": "basic-september",
   "metadata": {},
   "outputs": [],
   "source": []
  }
 ],
 "metadata": {
  "kernelspec": {
   "display_name": "Python 3",
   "language": "python",
   "name": "python3"
  },
  "language_info": {
   "codemirror_mode": {
    "name": "ipython",
    "version": 3
   },
   "file_extension": ".py",
   "mimetype": "text/x-python",
   "name": "python",
   "nbconvert_exporter": "python",
   "pygments_lexer": "ipython3",
   "version": "3.9.1"
  }
 },
 "nbformat": 4,
 "nbformat_minor": 5
}
