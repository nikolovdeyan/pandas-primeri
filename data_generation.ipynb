{
 "cells": [
  {
   "cell_type": "markdown",
   "id": "virtual-identification",
   "metadata": {},
   "source": [
    "## Създаване на примерни данни с python и faker\n"
   ]
  },
  {
   "cell_type": "markdown",
   "id": "corporate-anatomy",
   "metadata": {},
   "source": [
    "`Faker` е пакет за програмния език python, който представлява [генератор за псевдослучайни данни](https://bg.wikipedia.org/wiki/%D0%93%D0%B5%D0%BD%D0%B5%D1%80%D0%B0%D1%82%D0%BE%D1%80_%D0%BD%D0%B0_%D1%81%D0%BB%D1%83%D1%87%D0%B0%D0%B9%D0%BD%D0%B8_%D1%87%D0%B8%D1%81%D0%BB%D0%B0). С множеството си предефинирани варианти за създаване на неистински данни и възможностите за конфигуриране, `Faker` улеснява работата на програмисти, тестъри, разработчици на бази-данни, както и на всички, които имат нужда от реалистично изглеждащи генерирани данни за работата си.\n",
    "\n",
    "Повече информация на тези връзки:\n",
    "- https://pypi.org/project/Faker/ (PyPI страница)\n",
    "- https://github.com/joke2k/faker (Github страница)\n",
    "- https://faker.readthedocs.io/en/master/ (Документация на Faker)"
   ]
  },
  {
   "cell_type": "markdown",
   "id": "fourth-capital",
   "metadata": {},
   "source": [
    "### Работа с `Faker` за генериране на псевдослучайни данни"
   ]
  },
  {
   "cell_type": "markdown",
   "id": "removed-angola",
   "metadata": {},
   "source": [
    "\n",
    "Започваме с внасяне на `faker` в работната среда. Ще ни трябват още и модулите `datetime` и `csv` от стандартната библиотека на python:"
   ]
  },
  {
   "cell_type": "code",
   "execution_count": 8,
   "id": "stuck-fellow",
   "metadata": {},
   "outputs": [],
   "source": [
    "import csv\n",
    "import datetime\n",
    "from faker import Faker"
   ]
  },
  {
   "cell_type": "markdown",
   "id": "entire-barcelona",
   "metadata": {},
   "source": [
    "Инициализираме `Faker` обект, като подаваме начален ключ (в случая числото 0). Този ключ дава възможност на по-късен етап да бъде генерирана отново същата последователност от примерни данни. "
   ]
  },
  {
   "cell_type": "code",
   "execution_count": 9,
   "id": "planned-property",
   "metadata": {},
   "outputs": [],
   "source": [
    "fake = Faker()\n",
    "Faker.seed(0)"
   ]
  },
  {
   "cell_type": "markdown",
   "id": "powerful-billy",
   "metadata": {},
   "source": [
    "За описание на логиката на генериране на самите данни, Faker предоставя набор от модули, наречени доставчици (providers). Документацията описва два основни раздела доставчици -- standard providers (стандартни доставчици), написани от програмистите на Faker, и community providers, написани от външни разработчици. \n",
    "\n",
    "\n",
    "Нека вземем за пример `faker.providers.profile.Provider`. Това е генератор, който представлява колекция от функции за генериране на неистински идентичности. В базовата си форма той генерира речник с пълен набор от полета за фиктивен профил:"
   ]
  },
  {
   "cell_type": "code",
   "execution_count": 21,
   "id": "familiar-above",
   "metadata": {},
   "outputs": [
    {
     "data": {
      "text/plain": [
       "{'job': 'Engineer, electronics',\n",
       " 'company': 'Thornton-Lee',\n",
       " 'ssn': '415-08-1039',\n",
       " 'residence': '4273 Holt Motorway\\nRodneyton, DC 64140',\n",
       " 'current_location': (Decimal('-48.736401'), Decimal('-9.872198')),\n",
       " 'blood_group': 'A+',\n",
       " 'website': ['http://mckay.com/',\n",
       "  'http://www.martin.com/',\n",
       "  'http://daniels.org/',\n",
       "  'https://hughes.com/'],\n",
       " 'username': 'douglas91',\n",
       " 'name': 'Amy Farrell',\n",
       " 'sex': 'F',\n",
       " 'address': '843 Stephanie Fort\\nDanastad, CT 23614',\n",
       " 'mail': 'alexandergreen@hotmail.com',\n",
       " 'birthdate': datetime.date(1939, 10, 29)}"
      ]
     },
     "execution_count": 21,
     "metadata": {},
     "output_type": "execute_result"
    }
   ],
   "source": [
    "fake.profile()"
   ]
  },
  {
   "cell_type": "markdown",
   "id": "professional-danish",
   "metadata": {},
   "source": [
    "Можем да изберем кои полета да бъдат генерирани като подадем като параметър лист с техните имена. Като втори параметър можем да подадем пол:"
   ]
  },
  {
   "cell_type": "code",
   "execution_count": 23,
   "id": "hybrid-sister",
   "metadata": {},
   "outputs": [
    {
     "data": {
      "text/plain": [
       "{'job': 'Biomedical scientist',\n",
       " 'username': 'susanhaynes',\n",
       " 'name': 'Taylor Small'}"
      ]
     },
     "execution_count": 23,
     "metadata": {},
     "output_type": "execute_result"
    }
   ],
   "source": [
    "fake.profile([\"name\", \"job\", \"username\"], \"F\")"
   ]
  },
  {
   "cell_type": "markdown",
   "id": "opened-detection",
   "metadata": {},
   "source": [
    "### Локализации\n",
    "\n",
    "Конструкторът на `faker.Faker` може също така да приеме една (под формата на символен низ) или много (под формата на лист от стрингове) настройки за локализация. Това позволява генерирането на данни, релевантни за подадените региони. Списък на локализираните провайдъри е наличен в [документацията на Faker](https://faker.readthedocs.io/en/master/locales.html)."
   ]
  },
  {
   "cell_type": "code",
   "execution_count": 35,
   "id": "mexican-cleaners",
   "metadata": {},
   "outputs": [
    {
     "name": "stdout",
     "output_type": "stream",
     "text": [
      "Акашия Братухчев, тел. +359(0)478501033\n",
      "Г-ца Елина Вампирска, тел. +359(0)764 185781\n",
      "Г-ца Елиезер Тухчиев, тел. +359220080276\n",
      "Г-жа Кибер Топков, тел. 0874 203-609\n",
      "Др. Лихия ЕвроповКирилов, тел. (0952) 706 502\n",
      "Гримяна Кривошапкова, тел. +359421319291\n"
     ]
    }
   ],
   "source": [
    "bg_fake = Faker('bg_BG')\n",
    "for _ in range(6):\n",
    "    print(f\"{bg_fake.name()}, тел. {bg_fake.phone_number()}\")"
   ]
  },
  {
   "cell_type": "markdown",
   "id": "agricultural-positive",
   "metadata": {},
   "source": [
    "### Разпределение на вероятностите\n",
    "\n",
    "\n",
    "For probability distribution:\n",
    "\n",
    "fake.random_elements(elements=OrderedDict([(\"a\", 0.45), (\"b\", 0.35), (\"c\", 0.15), (\"d\", 0.05), ]), length=20, unique=False)"
   ]
  },
  {
   "cell_type": "markdown",
   "id": "acting-generator",
   "metadata": {},
   "source": [
    "### Уникални стойности\n",
    "\n",
    "Чрез достъпване на свойството `unique` на генератора, гарантираме че създадените стойности ще бъдат уникални. "
   ]
  },
  {
   "cell_type": "code",
   "execution_count": 38,
   "id": "organized-trail",
   "metadata": {},
   "outputs": [
    {
     "name": "stdout",
     "output_type": "stream",
     "text": [
      "['Assamese', 'Javanese', 'Lao', 'Igbo', 'Czech', 'Japanese', 'Tajik', 'Romanian', 'Kuanyama', 'Chichewa', 'Herero', 'Latvian', 'Venda', 'Swedish', 'Dzongkha', 'Mongolian', 'Ndonga', 'Aymara', 'Interlingue', 'Limburgan', 'Persian', 'Sichuan Yi', 'Occitan', 'Hungarian', 'Swati', 'Bihari languages', 'Norwegian', 'Kongo', 'Turkmen', 'Maori']\n"
     ]
    }
   ],
   "source": [
    "print([fake.unique.language_name() for _ in range(30)])"
   ]
  },
  {
   "cell_type": "markdown",
   "id": "damaged-aaron",
   "metadata": {},
   "source": [
    "### Пример -- Създаване на csv файл с фиктивни данни за клиенти\n",
    "\n",
    "За да демонстрираме възможностите на `Faker`, нека да генерираме един текстов файл с делимитирани стойности. "
   ]
  },
  {
   "cell_type": "code",
   "execution_count": 30,
   "id": "alien-mainland",
   "metadata": {},
   "outputs": [],
   "source": [
    "header = [\"name\", \"sex\", \"birthdate\", \"username\", \"address\", \"SSN\", \"mail\"]\n",
    "rows_number = 100\n",
    "output_filename = \"faker_csv_write.csv\""
   ]
  },
  {
   "cell_type": "code",
   "execution_count": 31,
   "id": "proper-declaration",
   "metadata": {},
   "outputs": [
    {
     "name": "stdout",
     "output_type": "stream",
     "text": [
      "CPU times: user 163 ms, sys: 22.2 ms, total: 186 ms\n",
      "Wall time: 184 ms\n"
     ]
    }
   ],
   "source": [
    "%%time\n",
    "with open(output_filename, \"wt\") as csv_file:\n",
    "    writer = csv.DictWriter(csv_file, fieldnames=header, delimiter=\";\")\n",
    "    writer.writeheader()\n",
    "    for i in range(rows_number):\n",
    "        writer.writerow({\n",
    "            \"name\": fake.name(),\n",
    "            \"sex\": fake.random_element(elements=('M', 'F')),\n",
    "            \"birthdate\": fake.date(pattern=\"%d-%m-%Y\", end_datetime=datetime.date(2002, 1, 1)),\n",
    "            \"username\": fake.profile(fields=[\"username\"]).get(\"username\"),\n",
    "            \"address\": fake.address().replace(\"\\n\", \" \"),\n",
    "            \"SSN\": fake.ssn(),\n",
    "            \"mail\": fake.email(),\n",
    "        })\n",
    "    "
   ]
  },
  {
   "cell_type": "markdown",
   "id": "specific-cooperation",
   "metadata": {},
   "source": [
    "Нека видим как изглеждат първите няколко реда на новосъздадения файл:"
   ]
  },
  {
   "cell_type": "code",
   "execution_count": 32,
   "id": "lesser-sherman",
   "metadata": {},
   "outputs": [
    {
     "name": "stdout",
     "output_type": "stream",
     "text": [
      "name|sex|birthdate|username|address|SSN|mail\r",
      "\r\n",
      "Omar Caldwell|M|16-04-2001|cowanpatrick|Unit 8870 Box 8137 DPO AE 69568|803-02-2702|wjohnson@hotmail.com\r",
      "\r\n",
      "Taylor Green|F|29-05-1994|dhoward|2141 Christensen Turnpike Gabrielaport, MI 45332|274-99-3139|kim81@wallace-thomas.com\r",
      "\r\n",
      "Nicholas Smith|F|18-07-1982|bonnie86|37930 Sanchez Fort Apt. 872 West Nancy, MI 32549|429-31-5875|erin80@hotmail.com\r",
      "\r\n",
      "Sherry Wood|M|06-09-1980|david66|362 Walters Brooks South Jenna, IL 53923|165-49-9744|jasonrivera@yahoo.com\r",
      "\r\n"
     ]
    }
   ],
   "source": [
    "!head over_a_hundred_thousand.csv -n 5"
   ]
  }
 ],
 "metadata": {
  "kernelspec": {
   "display_name": "Python 3",
   "language": "python",
   "name": "python3"
  },
  "language_info": {
   "codemirror_mode": {
    "name": "ipython",
    "version": 3
   },
   "file_extension": ".py",
   "mimetype": "text/x-python",
   "name": "python",
   "nbconvert_exporter": "python",
   "pygments_lexer": "ipython3",
   "version": "3.9.1"
  }
 },
 "nbformat": 4,
 "nbformat_minor": 5
}
