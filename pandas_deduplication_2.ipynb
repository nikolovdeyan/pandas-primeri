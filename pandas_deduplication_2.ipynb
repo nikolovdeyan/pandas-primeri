{
 "cells": [
  {
   "cell_type": "markdown",
   "id": "exotic-trade",
   "metadata": {},
   "source": [
    "## Дедуплициране на данни с Pandas \n",
    "\n",
    "За тази демонстрация ще използваме генерираните от нас по-рано неистински данни, които записахме във файла `over_a_hundred_thousand.csv`. Как точно генерирахме тестовите записи може да прочетете [тук](./pandas_deduplication_1.ipynb)."
   ]
  },
  {
   "cell_type": "markdown",
   "id": "amateur-bunny",
   "metadata": {},
   "source": [
    "### Внасяне и преглед на изходните данни\n",
    "\n",
    "\n",
    "Започваме с импортиране на `pandas` в работното пространство. "
   ]
  },
  {
   "cell_type": "code",
   "execution_count": 10,
   "id": "passing-challenge",
   "metadata": {},
   "outputs": [],
   "source": [
    "import pandas as pd"
   ]
  },
  {
   "cell_type": "markdown",
   "id": "unlike-penalty",
   "metadata": {},
   "source": [
    "Pandas включва две основни структури от данни, върху които стъпват многобройните методи и случаи на употреба на библиотеката: `pandas.Series` (едноизмерна) и `pandas.DataFrame` (двуизмерна). Тъй като работим с таблични данни, в случая използваме `DataFrame`.\n",
    "\n",
    "За да прочетем данни от текстови файлове в pandas, използваме метода `pandas.read_csv()` ( [Документация](https://pandas.pydata.org/pandas-docs/stable/reference/api/pandas.read_csv.html) ). Този метод може да се използва за импорт на всякакви текстови формати, където стойностите са разделени със символ (запетая, точка и запетая, и пр.). Понеже записахме примерните данни с разделител `|`, ще се наложи да използваме и един от многобройните параметри, които са налични за прецизен контрол на внесените данни: `delimiter`. \n",
    "\n",
    "След като файлът е прочетен във фрейма `df`, можем да видим размерите на таблицата (брой редове, брой колони) като използваме `shape` свойството му:"
   ]
  },
  {
   "cell_type": "code",
   "execution_count": 11,
   "id": "immediate-excitement",
   "metadata": {},
   "outputs": [
    {
     "data": {
      "text/plain": [
       "(109101, 7)"
      ]
     },
     "execution_count": 11,
     "metadata": {},
     "output_type": "execute_result"
    }
   ],
   "source": [
    "df = pd.read_csv(\"dataset_with_duplicates.csv\", delimiter=\"|\")\n",
    "df.shape"
   ]
  },
  {
   "cell_type": "markdown",
   "id": "adjusted-muslim",
   "metadata": {},
   "source": [
    "Структурите данни на pandas притежават методите `head(n)` и `tail(n)`, с които можем да видим `n` брой редове от съответно началото или края на структурата. Нека изобразим ред от нашия нов фрейм, за да се уверим, че данните са правилно внесени."
   ]
  },
  {
   "cell_type": "code",
   "execution_count": 12,
   "id": "hydraulic-visibility",
   "metadata": {},
   "outputs": [
    {
     "data": {
      "text/html": [
       "<div>\n",
       "<style scoped>\n",
       "    .dataframe tbody tr th:only-of-type {\n",
       "        vertical-align: middle;\n",
       "    }\n",
       "\n",
       "    .dataframe tbody tr th {\n",
       "        vertical-align: top;\n",
       "    }\n",
       "\n",
       "    .dataframe thead th {\n",
       "        text-align: right;\n",
       "    }\n",
       "</style>\n",
       "<table border=\"1\" class=\"dataframe\">\n",
       "  <thead>\n",
       "    <tr style=\"text-align: right;\">\n",
       "      <th></th>\n",
       "      <th>name</th>\n",
       "      <th>sex</th>\n",
       "      <th>birthdate</th>\n",
       "      <th>username</th>\n",
       "      <th>address</th>\n",
       "      <th>SSN</th>\n",
       "      <th>mail</th>\n",
       "    </tr>\n",
       "  </thead>\n",
       "  <tbody>\n",
       "    <tr>\n",
       "      <th>0</th>\n",
       "      <td>Sheri Lopez</td>\n",
       "      <td>F</td>\n",
       "      <td>01-05-1979</td>\n",
       "      <td>pgarcia</td>\n",
       "      <td>191 Bean Parkway Princeborough, NH 15235</td>\n",
       "      <td>381-76-3124</td>\n",
       "      <td>lmorris@jarvis-oneal.com</td>\n",
       "    </tr>\n",
       "  </tbody>\n",
       "</table>\n",
       "</div>"
      ],
      "text/plain": [
       "          name sex   birthdate username  \\\n",
       "0  Sheri Lopez   F  01-05-1979  pgarcia   \n",
       "\n",
       "                                    address          SSN  \\\n",
       "0  191 Bean Parkway Princeborough, NH 15235  381-76-3124   \n",
       "\n",
       "                       mail  \n",
       "0  lmorris@jarvis-oneal.com  "
      ]
     },
     "execution_count": 12,
     "metadata": {},
     "output_type": "execute_result"
    }
   ],
   "source": [
    "df.head(1)"
   ]
  },
  {
   "cell_type": "code",
   "execution_count": 18,
   "id": "invalid-repository",
   "metadata": {},
   "outputs": [
    {
     "data": {
      "text/plain": [
       "True"
      ]
     },
     "execution_count": 18,
     "metadata": {},
     "output_type": "execute_result"
    }
   ],
   "source": [
    "df.duplicated().any()"
   ]
  },
  {
   "cell_type": "code",
   "execution_count": 23,
   "id": "frequent-third",
   "metadata": {},
   "outputs": [
    {
     "data": {
      "text/plain": [
       "True"
      ]
     },
     "execution_count": 23,
     "metadata": {},
     "output_type": "execute_result"
    }
   ],
   "source": [
    "df.duplicated(subset=[\"name\", \"birthdate\"]).any()"
   ]
  },
  {
   "cell_type": "code",
   "execution_count": 15,
   "id": "injured-classic",
   "metadata": {},
   "outputs": [
    {
     "data": {
      "text/plain": [
       "200"
      ]
     },
     "execution_count": 15,
     "metadata": {},
     "output_type": "execute_result"
    }
   ],
   "source": [
    "duplicate_records = df[df.duplicated(keep=False)]  # can keep 'first', 'last', or all.\n",
    "len(duplicate_records)"
   ]
  },
  {
   "cell_type": "code",
   "execution_count": 17,
   "id": "republican-macintosh",
   "metadata": {},
   "outputs": [
    {
     "data": {
      "text/html": [
       "<div>\n",
       "<style scoped>\n",
       "    .dataframe tbody tr th:only-of-type {\n",
       "        vertical-align: middle;\n",
       "    }\n",
       "\n",
       "    .dataframe tbody tr th {\n",
       "        vertical-align: top;\n",
       "    }\n",
       "\n",
       "    .dataframe thead th {\n",
       "        text-align: right;\n",
       "    }\n",
       "</style>\n",
       "<table border=\"1\" class=\"dataframe\">\n",
       "  <thead>\n",
       "    <tr style=\"text-align: right;\">\n",
       "      <th></th>\n",
       "      <th>name</th>\n",
       "      <th>sex</th>\n",
       "      <th>birthdate</th>\n",
       "      <th>username</th>\n",
       "      <th>address</th>\n",
       "      <th>SSN</th>\n",
       "      <th>mail</th>\n",
       "    </tr>\n",
       "  </thead>\n",
       "  <tbody>\n",
       "    <tr>\n",
       "      <th>42310</th>\n",
       "      <td>Aaron Wiggins</td>\n",
       "      <td>F</td>\n",
       "      <td>22-07-1990</td>\n",
       "      <td>curtistucker</td>\n",
       "      <td>USCGC Sawyer FPO AE 76145</td>\n",
       "      <td>117-35-7508</td>\n",
       "      <td>stricklandamber@parker.com</td>\n",
       "    </tr>\n",
       "    <tr>\n",
       "      <th>72463</th>\n",
       "      <td>Aaron Wiggins</td>\n",
       "      <td>F</td>\n",
       "      <td>22-07-1990</td>\n",
       "      <td>curtistucker</td>\n",
       "      <td>USCGC Sawyer FPO AE 76145</td>\n",
       "      <td>117-35-7508</td>\n",
       "      <td>stricklandamber@parker.com</td>\n",
       "    </tr>\n",
       "    <tr>\n",
       "      <th>60408</th>\n",
       "      <td>Aaron Wood</td>\n",
       "      <td>M</td>\n",
       "      <td>13-12-1975</td>\n",
       "      <td>loganerica</td>\n",
       "      <td>3152 Rebecca Circles Brandonville, ME 06536</td>\n",
       "      <td>391-56-9591</td>\n",
       "      <td>cjones@hotmail.com</td>\n",
       "    </tr>\n",
       "    <tr>\n",
       "      <th>92458</th>\n",
       "      <td>Aaron Wood</td>\n",
       "      <td>M</td>\n",
       "      <td>13-12-1975</td>\n",
       "      <td>loganerica</td>\n",
       "      <td>3152 Rebecca Circles Brandonville, ME 06536</td>\n",
       "      <td>391-56-9591</td>\n",
       "      <td>cjones@hotmail.com</td>\n",
       "    </tr>\n",
       "    <tr>\n",
       "      <th>12628</th>\n",
       "      <td>Alexandria Lopez</td>\n",
       "      <td>F</td>\n",
       "      <td>05-07-1982</td>\n",
       "      <td>aaron29</td>\n",
       "      <td>6914 Little Highway Apt. 004 Scotttown, NY 94890</td>\n",
       "      <td>002-90-2021</td>\n",
       "      <td>daviserica@yahoo.com</td>\n",
       "    </tr>\n",
       "    <tr>\n",
       "      <th>107692</th>\n",
       "      <td>Alexandria Lopez</td>\n",
       "      <td>F</td>\n",
       "      <td>05-07-1982</td>\n",
       "      <td>aaron29</td>\n",
       "      <td>6914 Little Highway Apt. 004 Scotttown, NY 94890</td>\n",
       "      <td>002-90-2021</td>\n",
       "      <td>daviserica@yahoo.com</td>\n",
       "    </tr>\n",
       "  </tbody>\n",
       "</table>\n",
       "</div>"
      ],
      "text/plain": [
       "                    name sex   birthdate      username  \\\n",
       "42310      Aaron Wiggins   F  22-07-1990  curtistucker   \n",
       "72463      Aaron Wiggins   F  22-07-1990  curtistucker   \n",
       "60408         Aaron Wood   M  13-12-1975    loganerica   \n",
       "92458         Aaron Wood   M  13-12-1975    loganerica   \n",
       "12628   Alexandria Lopez   F  05-07-1982       aaron29   \n",
       "107692  Alexandria Lopez   F  05-07-1982       aaron29   \n",
       "\n",
       "                                                 address          SSN  \\\n",
       "42310                          USCGC Sawyer FPO AE 76145  117-35-7508   \n",
       "72463                          USCGC Sawyer FPO AE 76145  117-35-7508   \n",
       "60408        3152 Rebecca Circles Brandonville, ME 06536  391-56-9591   \n",
       "92458        3152 Rebecca Circles Brandonville, ME 06536  391-56-9591   \n",
       "12628   6914 Little Highway Apt. 004 Scotttown, NY 94890  002-90-2021   \n",
       "107692  6914 Little Highway Apt. 004 Scotttown, NY 94890  002-90-2021   \n",
       "\n",
       "                              mail  \n",
       "42310   stricklandamber@parker.com  \n",
       "72463   stricklandamber@parker.com  \n",
       "60408           cjones@hotmail.com  \n",
       "92458           cjones@hotmail.com  \n",
       "12628         daviserica@yahoo.com  \n",
       "107692        daviserica@yahoo.com  "
      ]
     },
     "execution_count": 17,
     "metadata": {},
     "output_type": "execute_result"
    }
   ],
   "source": [
    "duplicate_records.sort_values(by=[\"name\", \"birthdate\"]).head(6)"
   ]
  },
  {
   "cell_type": "code",
   "execution_count": null,
   "id": "basic-september",
   "metadata": {},
   "outputs": [],
   "source": []
  }
 ],
 "metadata": {
  "kernelspec": {
   "display_name": "Python 3",
   "language": "python",
   "name": "python3"
  },
  "language_info": {
   "codemirror_mode": {
    "name": "ipython",
    "version": 3
   },
   "file_extension": ".py",
   "mimetype": "text/x-python",
   "name": "python",
   "nbconvert_exporter": "python",
   "pygments_lexer": "ipython3",
   "version": "3.9.1"
  }
 },
 "nbformat": 4,
 "nbformat_minor": 5
}
